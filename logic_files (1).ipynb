{
  "nbformat": 4,
  "nbformat_minor": 0,
  "metadata": {
    "colab": {
      "name": "logic_files.ipynb",
      "provenance": [],
      "collapsed_sections": []
    },
    "kernelspec": {
      "name": "python3",
      "display_name": "Python 3"
    },
    "language_info": {
      "name": "python"
    }
  },
  "cells": [
    {
      "cell_type": "code",
      "execution_count": null,
      "metadata": {
        "id": "9h05FENTNtWb"
      },
      "outputs": [],
      "source": [
        "import pathlib\n",
        "import threading\n",
        "import os\n",
        "import shutil\n",
        "import time\n",
        "import concurrent.futures\n",
        "import pandas as pd\n",
        "import multiprocessing\n",
        "import json\n",
        "import pandas as pd\n"
      ]
    },
    {
      "cell_type": "code",
      "source": [
        "path_files = ['Processing', 'Queue', 'Processed']"
      ],
      "metadata": {
        "id": "y49JMkFWOFgd"
      },
      "execution_count": null,
      "outputs": []
    },
    {
      "cell_type": "code",
      "source": [
        "for i in path_files:\n",
        "  if not pathlib.Path(i).exists():\n",
        "    pathlib.Path(i).mkdir(exist_ok=True)\n",
        "!ls"
      ],
      "metadata": {
        "colab": {
          "base_uri": "https://localhost:8080/"
        },
        "id": "ybhdfNoTOhia",
        "outputId": "be411fd9-2db1-4603-baee-39ac0a06a03b"
      },
      "execution_count": null,
      "outputs": [
        {
          "output_type": "stream",
          "name": "stdout",
          "text": [
            "Processed  Processing  Queue  sample_data\n"
          ]
        }
      ]
    },
    {
      "cell_type": "code",
      "source": [
        "def check_empty():\n",
        "  if len(os.listdir(pathlib.Path(path_files[1]))) == 0:\n",
        "    return True\n",
        "  return False\n",
        "\n"
      ],
      "metadata": {
        "id": "EVWu1kVnmjSZ"
      },
      "execution_count": null,
      "outputs": []
    },
    {
      "cell_type": "code",
      "source": [
        "a= 1\n",
        "b = 101"
      ],
      "metadata": {
        "id": "27X6nNUPZg60"
      },
      "execution_count": null,
      "outputs": []
    },
    {
      "cell_type": "code",
      "source": [
        "def add_files_to_Processing():\n",
        "  for file_number in range(a,b):\n",
        "    folder_name = pathlib.Path(path_files[0])\n",
        "    file_name = f'file{file_number}.txt'\n",
        "    new_file = folder_name/file_name\n",
        "    \n",
        "    #print('sleep for 1 sec')\n",
        "    open(new_file, 'a').close()\n",
        "    print(f'added {file_name} to {path_files[0]} folder')\n",
        "    time.sleep(1)\n",
        "    #print('Done for 1 sec')\n",
        "  \n",
        "  \n"
      ],
      "metadata": {
        "id": "KpWs5eBGP6Xd"
      },
      "execution_count": null,
      "outputs": []
    },
    {
      "cell_type": "code",
      "source": [
        "def move_file_from_processing2queue():\n",
        "  for file_number in range(a,b):\n",
        "    prev_location = pathlib.Path(f'{path_files[0]}/file{file_number}.txt')\n",
        "    new_location = pathlib.Path(f'{path_files[1]}/file{file_number}.txt')\n",
        "    while not check_empty:\n",
        "      pass\n",
        "    pathlib.Path(prev_location).rename(pathlib.Path(new_location))\n",
        "    print('moved from processing to queue')\n",
        "    #print('sleeping for 5 seconds')\n",
        "    time.sleep(5)\n",
        "    #print('Done for 5 sec')\n",
        "     \n",
        " \n",
        "  \n"
      ],
      "metadata": {
        "id": "Jktsd-8rY_sv"
      },
      "execution_count": null,
      "outputs": []
    },
    {
      "cell_type": "code",
      "source": [
        "\n",
        "def move_file_from_queue2processed():\n",
        "  for file_number in range(a,b):\n",
        "    n = f'file{file_number}.txt'\n",
        "    prev_location = pathlib.Path(f'{path_files[1]}/file{file_number}.txt')\n",
        "    new_location = pathlib.Path(f'{path_files[2]}/file{file_number}.txt')\n",
        "    \n",
        "    pathlib.Path(prev_location).rename(pathlib.Path(new_location))\n",
        "    print('moved from queue to processed')\n",
        "    conn = sqlite3.connect('test.db')\n",
        "    c= conn.cursor()\n",
        "    items = ([file_number, n])\n",
        "    c.execute(f\"INSERT INTO file_data VALUES(?,?);\",items)\n",
        "    conn.commit()\n",
        "    time.sleep(10)\n",
        "    #file_number_list.append(file_number)\n",
        "    #print(file_number_list)\n",
        "    #file_names_list.append(f'file{file_number}.txt')\n",
        "    #print(file_names_list)\n",
        "    #print('sleeping for 10 secs')\n",
        "    \n",
        "    \n",
        "  \n",
        "    \n",
        "\n",
        "  \n",
        "  \n",
        "\n"
      ],
      "metadata": {
        "id": "MMFzM8fNibwq"
      },
      "execution_count": null,
      "outputs": []
    },
    {
      "cell_type": "code",
      "source": [
        "import sqlite3\n",
        "\n",
        "conn = sqlite3.connect('test.db')\n",
        "print(\"Opened database successfully\");\n",
        "\n",
        "conn.execute('''\n",
        "CREATE TABLE IF NOT EXISTS file_data(file_number_list integer, \n",
        "                      file_names_list text);''')\n",
        "\n",
        "\n",
        "\n",
        "print(\"Table created successfully\");\n"
      ],
      "metadata": {
        "colab": {
          "base_uri": "https://localhost:8080/"
        },
        "id": "lDsNr6XT0Afp",
        "outputId": "9e319d96-f060-4112-cd34-ed062435f030"
      },
      "execution_count": null,
      "outputs": [
        {
          "output_type": "stream",
          "name": "stdout",
          "text": [
            "Opened database successfully\n",
            "Table created successfully\n"
          ]
        }
      ]
    },
    {
      "cell_type": "code",
      "source": [
        "\n",
        "f1 = multiprocessing.Process(target=add_files_to_Processing)\n",
        "f2 = multiprocessing.Process(target=move_file_from_processing2queue)\n",
        "f3 = multiprocessing.Process(target=move_file_from_queue2processed)\n",
        "\n",
        "f1.start()\n",
        "f2.start()\n",
        "f3.start()\n",
        "\n",
        "f1.join()\n",
        "f2.join()\n",
        "f3.join()\n",
        "  \n",
        "  \n",
        "\n",
        "\n"
      ],
      "metadata": {
        "colab": {
          "base_uri": "https://localhost:8080/"
        },
        "id": "5FG51bl8S-Lc",
        "outputId": "87b9f2a1-1762-4d75-ee16-431b47021924"
      },
      "execution_count": null,
      "outputs": [
        {
          "output_type": "stream",
          "name": "stdout",
          "text": [
            "added file1.txt to Processing folder\n",
            "moved from processing to queue\n",
            "moved from queue to processed\n",
            "added file2.txt to Processing folder\n",
            "added file3.txt to Processing folder\n",
            "added file4.txt to Processing folder\n",
            "moved from processing to queue\n",
            "moved from processing to queue\n",
            "moved from queue to processed\n",
            "moved from processing to queue\n",
            "moved from queue to processed\n",
            "moved from queue to processed\n"
          ]
        }
      ]
    },
    {
      "cell_type": "code",
      "source": [
        "conn = sqlite3.connect('test.db')\n",
        "cur = conn.cursor()\n",
        "cur.execute(\"SELECT * FROM file_data\")\n",
        "rows = cur.fetchall()\n",
        "for row in rows:\n",
        "  print(row)\n"
      ],
      "metadata": {
        "colab": {
          "base_uri": "https://localhost:8080/"
        },
        "id": "FAqfdA_B054T",
        "outputId": "54366c41-dc0d-46b0-b581-e9d8a88abfe7"
      },
      "execution_count": null,
      "outputs": [
        {
          "output_type": "stream",
          "name": "stdout",
          "text": [
            "(1, 'file1.txt')\n",
            "(2, 'file2.txt')\n",
            "(3, 'file3.txt')\n",
            "(4, 'file4.txt')\n"
          ]
        }
      ]
    }
  ]
}