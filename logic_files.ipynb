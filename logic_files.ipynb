{
  "nbformat": 4,
  "nbformat_minor": 0,
  "metadata": {
    "colab": {
      "name": "logic_files.ipynb",
      "provenance": []
    },
    "kernelspec": {
      "name": "python3",
      "display_name": "Python 3"
    },
    "language_info": {
      "name": "python"
    }
  },
  "cells": [
    {
      "cell_type": "code",
      "execution_count": 1,
      "metadata": {
        "id": "9h05FENTNtWb"
      },
      "outputs": [],
      "source": [
        "import pathlib\n",
        "import threading\n",
        "import os\n",
        "import shutil\n",
        "import time\n",
        "import concurrent.futures\n",
        "import pandas as pd\n",
        "import multiprocessing\n",
        "import json\n",
        "import pandas as pd\n"
      ]
    },
    {
      "cell_type": "code",
      "source": [
        "path_files = ['Processing', 'Queue', 'Processed']"
      ],
      "metadata": {
        "id": "y49JMkFWOFgd"
      },
      "execution_count": 2,
      "outputs": []
    },
    {
      "cell_type": "code",
      "source": [
        "for i in path_files:\n",
        "  if not pathlib.Path(i).exists():\n",
        "    pathlib.Path(i).mkdir(exist_ok=True)\n",
        "!ls"
      ],
      "metadata": {
        "colab": {
          "base_uri": "https://localhost:8080/"
        },
        "id": "ybhdfNoTOhia",
        "outputId": "abf1d5d1-fbc5-49ff-8c82-a8d6ee057702"
      },
      "execution_count": 3,
      "outputs": [
        {
          "output_type": "stream",
          "name": "stdout",
          "text": [
            "Processed  Processing  Queue  sample_data\n"
          ]
        }
      ]
    },
    {
      "cell_type": "code",
      "source": [
        "def check_empty():\n",
        "  if len(os.listdir(pathlib.Path(path_files[1]))) == 0:\n",
        "    return True\n",
        "  return False\n",
        "\n"
      ],
      "metadata": {
        "id": "EVWu1kVnmjSZ"
      },
      "execution_count": 4,
      "outputs": []
    },
    {
      "cell_type": "code",
      "source": [
        "a= 1\n",
        "b = 101"
      ],
      "metadata": {
        "id": "27X6nNUPZg60"
      },
      "execution_count": null,
      "outputs": []
    },
    {
      "cell_type": "code",
      "source": [
        "def add_files_to_Processing():\n",
        "  for file_number in range(a,b):\n",
        "    folder_name = pathlib.Path(path_files[0])\n",
        "    file_name = f'file{file_number}.txt'\n",
        "    new_file = folder_name/file_name\n",
        "    \n",
        "    #print('sleep for 1 sec')\n",
        "    open(new_file, 'a').close()\n",
        "    print(f'added {file_name} to {path_files[0]} folder')\n",
        "    time.sleep(1)\n",
        "    #print('Done for 1 sec')\n",
        "  \n",
        "  \n"
      ],
      "metadata": {
        "id": "KpWs5eBGP6Xd"
      },
      "execution_count": 5,
      "outputs": []
    },
    {
      "cell_type": "code",
      "source": [
        "def move_file_from_processing2queue():\n",
        "  for file_number in range(a,b):\n",
        "    prev_location = pathlib.Path(f'{path_files[0]}/file{file_number}.txt')\n",
        "    new_location = pathlib.Path(f'{path_files[1]}/file{file_number}.txt')\n",
        "    while not check_empty:\n",
        "      time.sleep(5)\n",
        "    \n",
        "   \n",
        "  \n",
        "    pathlib.Path(prev_location).rename(pathlib.Path(new_location))\n",
        "    print('moved from processing to queue')\n",
        "    #print('sleeping for 5 seconds')\n",
        "    time.sleep(5)\n",
        "    #print('Done for 5 sec')\n",
        "     \n",
        " \n",
        "  \n"
      ],
      "metadata": {
        "id": "Jktsd-8rY_sv"
      },
      "execution_count": 6,
      "outputs": []
    },
    {
      "cell_type": "code",
      "source": [
        "file_names_list = []\n",
        "file_number_list = []\n"
      ],
      "metadata": {
        "id": "zt7OqQ5BETEH"
      },
      "execution_count": 7,
      "outputs": []
    },
    {
      "cell_type": "code",
      "source": [
        "\n",
        "def move_file_from_queue2processed():\n",
        "  for file_number in range(a,b):\n",
        "    prev_location = pathlib.Path(f'{path_files[1]}/file{file_number}.txt')\n",
        "    new_location = pathlib.Path(f'{path_files[2]}/file{file_number}.txt')\n",
        "    \n",
        "    pathlib.Path(prev_location).rename(pathlib.Path(new_location))\n",
        "    print('moved from queue to processed')\n",
        "    \n",
        "    file_number_list.append(file_number)\n",
        "    print(file_number_list)\n",
        "    file_names_list.append(f'file{file_number}.txt')\n",
        "    print(file_names_list)\n",
        "    #print('sleeping for 10 secs')\n",
        "    time.sleep(10)\n",
        "    \n",
        "    #print('Done sleeping for 10 sec')\n",
        "  x = dict(zip(file_number_list, file_names_list))\n",
        "  y = pd.DataFrame.from_dict(data=x, orient='index', columns=['file_names_list'])\n",
        "  y.to_csv('sample.csv')\n",
        "  \n",
        "  #with open(\"sample.json\", \"w\") as outfile:\n",
        "   # json.dump(x, outfile)\n",
        "  \n",
        "    \n",
        "\n",
        "  \n",
        "  \n",
        "\n"
      ],
      "metadata": {
        "id": "MMFzM8fNibwq"
      },
      "execution_count": 9,
      "outputs": []
    },
    {
      "cell_type": "code",
      "source": [
        "\n",
        "f1 = multiprocessing.Process(target=add_files_to_Processing)\n",
        "f2 = multiprocessing.Process(target=move_file_from_processing2queue)\n",
        "f3 = multiprocessing.Process(target=move_file_from_queue2processed)\n",
        "\n",
        "f1.start()\n",
        "f2.start()\n",
        "f3.start()\n",
        "\n",
        "f1.join()\n",
        "f2.join()\n",
        "f3.join()\n",
        "  \n",
        "  \n",
        "\n",
        "\n"
      ],
      "metadata": {
        "colab": {
          "base_uri": "https://localhost:8080/"
        },
        "id": "5FG51bl8S-Lc",
        "outputId": "e623f23e-2078-42d5-8847-8c7fa4e9237c"
      },
      "execution_count": 10,
      "outputs": [
        {
          "output_type": "stream",
          "name": "stdout",
          "text": [
            "moved from processing to queue\n",
            "added file1.txt to Processing folder\n",
            "moved from queue to processed\n",
            "[1]\n",
            "['file1.txt']\n",
            "added file2.txt to Processing folder\n",
            "added file3.txt to Processing folder\n",
            "added file4.txt to Processing folder\n",
            "moved from processing to queue\n",
            "moved from processing to queue\n",
            "moved from queue to processed\n",
            "[1, 2]\n",
            "['file1.txt', 'file2.txt']\n",
            "moved from processing to queue\n",
            "moved from queue to processed\n",
            "[1, 2, 3]\n",
            "['file1.txt', 'file2.txt', 'file3.txt']\n",
            "moved from queue to processed\n",
            "[1, 2, 3, 4]\n",
            "['file1.txt', 'file2.txt', 'file3.txt', 'file4.txt']\n"
          ]
        }
      ]
    },
    {
      "cell_type": "code",
      "source": [
        "df = pd.read_csv('sample.csv', index_col=None)\n",
        "df"
      ],
      "metadata": {
        "colab": {
          "base_uri": "https://localhost:8080/",
          "height": 175
        },
        "id": "jiF4136YV4C0",
        "outputId": "3d66e84b-e185-4723-fc90-86e6f350586a"
      },
      "execution_count": 11,
      "outputs": [
        {
          "output_type": "execute_result",
          "data": {
            "text/html": [
              "\n",
              "  <div id=\"df-3e98e077-db4d-4d1e-825a-3fe5f47a2a9d\">\n",
              "    <div class=\"colab-df-container\">\n",
              "      <div>\n",
              "<style scoped>\n",
              "    .dataframe tbody tr th:only-of-type {\n",
              "        vertical-align: middle;\n",
              "    }\n",
              "\n",
              "    .dataframe tbody tr th {\n",
              "        vertical-align: top;\n",
              "    }\n",
              "\n",
              "    .dataframe thead th {\n",
              "        text-align: right;\n",
              "    }\n",
              "</style>\n",
              "<table border=\"1\" class=\"dataframe\">\n",
              "  <thead>\n",
              "    <tr style=\"text-align: right;\">\n",
              "      <th></th>\n",
              "      <th>Unnamed: 0</th>\n",
              "      <th>file_names_list</th>\n",
              "    </tr>\n",
              "  </thead>\n",
              "  <tbody>\n",
              "    <tr>\n",
              "      <th>0</th>\n",
              "      <td>1</td>\n",
              "      <td>file1.txt</td>\n",
              "    </tr>\n",
              "    <tr>\n",
              "      <th>1</th>\n",
              "      <td>2</td>\n",
              "      <td>file2.txt</td>\n",
              "    </tr>\n",
              "    <tr>\n",
              "      <th>2</th>\n",
              "      <td>3</td>\n",
              "      <td>file3.txt</td>\n",
              "    </tr>\n",
              "    <tr>\n",
              "      <th>3</th>\n",
              "      <td>4</td>\n",
              "      <td>file4.txt</td>\n",
              "    </tr>\n",
              "  </tbody>\n",
              "</table>\n",
              "</div>\n",
              "      <button class=\"colab-df-convert\" onclick=\"convertToInteractive('df-3e98e077-db4d-4d1e-825a-3fe5f47a2a9d')\"\n",
              "              title=\"Convert this dataframe to an interactive table.\"\n",
              "              style=\"display:none;\">\n",
              "        \n",
              "  <svg xmlns=\"http://www.w3.org/2000/svg\" height=\"24px\"viewBox=\"0 0 24 24\"\n",
              "       width=\"24px\">\n",
              "    <path d=\"M0 0h24v24H0V0z\" fill=\"none\"/>\n",
              "    <path d=\"M18.56 5.44l.94 2.06.94-2.06 2.06-.94-2.06-.94-.94-2.06-.94 2.06-2.06.94zm-11 1L8.5 8.5l.94-2.06 2.06-.94-2.06-.94L8.5 2.5l-.94 2.06-2.06.94zm10 10l.94 2.06.94-2.06 2.06-.94-2.06-.94-.94-2.06-.94 2.06-2.06.94z\"/><path d=\"M17.41 7.96l-1.37-1.37c-.4-.4-.92-.59-1.43-.59-.52 0-1.04.2-1.43.59L10.3 9.45l-7.72 7.72c-.78.78-.78 2.05 0 2.83L4 21.41c.39.39.9.59 1.41.59.51 0 1.02-.2 1.41-.59l7.78-7.78 2.81-2.81c.8-.78.8-2.07 0-2.86zM5.41 20L4 18.59l7.72-7.72 1.47 1.35L5.41 20z\"/>\n",
              "  </svg>\n",
              "      </button>\n",
              "      \n",
              "  <style>\n",
              "    .colab-df-container {\n",
              "      display:flex;\n",
              "      flex-wrap:wrap;\n",
              "      gap: 12px;\n",
              "    }\n",
              "\n",
              "    .colab-df-convert {\n",
              "      background-color: #E8F0FE;\n",
              "      border: none;\n",
              "      border-radius: 50%;\n",
              "      cursor: pointer;\n",
              "      display: none;\n",
              "      fill: #1967D2;\n",
              "      height: 32px;\n",
              "      padding: 0 0 0 0;\n",
              "      width: 32px;\n",
              "    }\n",
              "\n",
              "    .colab-df-convert:hover {\n",
              "      background-color: #E2EBFA;\n",
              "      box-shadow: 0px 1px 2px rgba(60, 64, 67, 0.3), 0px 1px 3px 1px rgba(60, 64, 67, 0.15);\n",
              "      fill: #174EA6;\n",
              "    }\n",
              "\n",
              "    [theme=dark] .colab-df-convert {\n",
              "      background-color: #3B4455;\n",
              "      fill: #D2E3FC;\n",
              "    }\n",
              "\n",
              "    [theme=dark] .colab-df-convert:hover {\n",
              "      background-color: #434B5C;\n",
              "      box-shadow: 0px 1px 3px 1px rgba(0, 0, 0, 0.15);\n",
              "      filter: drop-shadow(0px 1px 2px rgba(0, 0, 0, 0.3));\n",
              "      fill: #FFFFFF;\n",
              "    }\n",
              "  </style>\n",
              "\n",
              "      <script>\n",
              "        const buttonEl =\n",
              "          document.querySelector('#df-3e98e077-db4d-4d1e-825a-3fe5f47a2a9d button.colab-df-convert');\n",
              "        buttonEl.style.display =\n",
              "          google.colab.kernel.accessAllowed ? 'block' : 'none';\n",
              "\n",
              "        async function convertToInteractive(key) {\n",
              "          const element = document.querySelector('#df-3e98e077-db4d-4d1e-825a-3fe5f47a2a9d');\n",
              "          const dataTable =\n",
              "            await google.colab.kernel.invokeFunction('convertToInteractive',\n",
              "                                                     [key], {});\n",
              "          if (!dataTable) return;\n",
              "\n",
              "          const docLinkHtml = 'Like what you see? Visit the ' +\n",
              "            '<a target=\"_blank\" href=https://colab.research.google.com/notebooks/data_table.ipynb>data table notebook</a>'\n",
              "            + ' to learn more about interactive tables.';\n",
              "          element.innerHTML = '';\n",
              "          dataTable['output_type'] = 'display_data';\n",
              "          await google.colab.output.renderOutput(dataTable, element);\n",
              "          const docLink = document.createElement('div');\n",
              "          docLink.innerHTML = docLinkHtml;\n",
              "          element.appendChild(docLink);\n",
              "        }\n",
              "      </script>\n",
              "    </div>\n",
              "  </div>\n",
              "  "
            ],
            "text/plain": [
              "   Unnamed: 0 file_names_list\n",
              "0           1       file1.txt\n",
              "1           2       file2.txt\n",
              "2           3       file3.txt\n",
              "3           4       file4.txt"
            ]
          },
          "metadata": {},
          "execution_count": 11
        }
      ]
    },
    {
      "cell_type": "code",
      "source": [
        "df=df.rename(columns = {'Unnamed: 0':'file_number_list'})"
      ],
      "metadata": {
        "id": "dJbj7s-EWBMC"
      },
      "execution_count": 12,
      "outputs": []
    },
    {
      "cell_type": "code",
      "source": [
        "df"
      ],
      "metadata": {
        "colab": {
          "base_uri": "https://localhost:8080/",
          "height": 175
        },
        "id": "3v6JPVVfWdJJ",
        "outputId": "e8d29018-c698-4098-bfca-cadc59b4d0df"
      },
      "execution_count": 13,
      "outputs": [
        {
          "output_type": "execute_result",
          "data": {
            "text/html": [
              "\n",
              "  <div id=\"df-a113bf8d-93fc-448e-ae59-76cd20633306\">\n",
              "    <div class=\"colab-df-container\">\n",
              "      <div>\n",
              "<style scoped>\n",
              "    .dataframe tbody tr th:only-of-type {\n",
              "        vertical-align: middle;\n",
              "    }\n",
              "\n",
              "    .dataframe tbody tr th {\n",
              "        vertical-align: top;\n",
              "    }\n",
              "\n",
              "    .dataframe thead th {\n",
              "        text-align: right;\n",
              "    }\n",
              "</style>\n",
              "<table border=\"1\" class=\"dataframe\">\n",
              "  <thead>\n",
              "    <tr style=\"text-align: right;\">\n",
              "      <th></th>\n",
              "      <th>file_number_list</th>\n",
              "      <th>file_names_list</th>\n",
              "    </tr>\n",
              "  </thead>\n",
              "  <tbody>\n",
              "    <tr>\n",
              "      <th>0</th>\n",
              "      <td>1</td>\n",
              "      <td>file1.txt</td>\n",
              "    </tr>\n",
              "    <tr>\n",
              "      <th>1</th>\n",
              "      <td>2</td>\n",
              "      <td>file2.txt</td>\n",
              "    </tr>\n",
              "    <tr>\n",
              "      <th>2</th>\n",
              "      <td>3</td>\n",
              "      <td>file3.txt</td>\n",
              "    </tr>\n",
              "    <tr>\n",
              "      <th>3</th>\n",
              "      <td>4</td>\n",
              "      <td>file4.txt</td>\n",
              "    </tr>\n",
              "  </tbody>\n",
              "</table>\n",
              "</div>\n",
              "      <button class=\"colab-df-convert\" onclick=\"convertToInteractive('df-a113bf8d-93fc-448e-ae59-76cd20633306')\"\n",
              "              title=\"Convert this dataframe to an interactive table.\"\n",
              "              style=\"display:none;\">\n",
              "        \n",
              "  <svg xmlns=\"http://www.w3.org/2000/svg\" height=\"24px\"viewBox=\"0 0 24 24\"\n",
              "       width=\"24px\">\n",
              "    <path d=\"M0 0h24v24H0V0z\" fill=\"none\"/>\n",
              "    <path d=\"M18.56 5.44l.94 2.06.94-2.06 2.06-.94-2.06-.94-.94-2.06-.94 2.06-2.06.94zm-11 1L8.5 8.5l.94-2.06 2.06-.94-2.06-.94L8.5 2.5l-.94 2.06-2.06.94zm10 10l.94 2.06.94-2.06 2.06-.94-2.06-.94-.94-2.06-.94 2.06-2.06.94z\"/><path d=\"M17.41 7.96l-1.37-1.37c-.4-.4-.92-.59-1.43-.59-.52 0-1.04.2-1.43.59L10.3 9.45l-7.72 7.72c-.78.78-.78 2.05 0 2.83L4 21.41c.39.39.9.59 1.41.59.51 0 1.02-.2 1.41-.59l7.78-7.78 2.81-2.81c.8-.78.8-2.07 0-2.86zM5.41 20L4 18.59l7.72-7.72 1.47 1.35L5.41 20z\"/>\n",
              "  </svg>\n",
              "      </button>\n",
              "      \n",
              "  <style>\n",
              "    .colab-df-container {\n",
              "      display:flex;\n",
              "      flex-wrap:wrap;\n",
              "      gap: 12px;\n",
              "    }\n",
              "\n",
              "    .colab-df-convert {\n",
              "      background-color: #E8F0FE;\n",
              "      border: none;\n",
              "      border-radius: 50%;\n",
              "      cursor: pointer;\n",
              "      display: none;\n",
              "      fill: #1967D2;\n",
              "      height: 32px;\n",
              "      padding: 0 0 0 0;\n",
              "      width: 32px;\n",
              "    }\n",
              "\n",
              "    .colab-df-convert:hover {\n",
              "      background-color: #E2EBFA;\n",
              "      box-shadow: 0px 1px 2px rgba(60, 64, 67, 0.3), 0px 1px 3px 1px rgba(60, 64, 67, 0.15);\n",
              "      fill: #174EA6;\n",
              "    }\n",
              "\n",
              "    [theme=dark] .colab-df-convert {\n",
              "      background-color: #3B4455;\n",
              "      fill: #D2E3FC;\n",
              "    }\n",
              "\n",
              "    [theme=dark] .colab-df-convert:hover {\n",
              "      background-color: #434B5C;\n",
              "      box-shadow: 0px 1px 3px 1px rgba(0, 0, 0, 0.15);\n",
              "      filter: drop-shadow(0px 1px 2px rgba(0, 0, 0, 0.3));\n",
              "      fill: #FFFFFF;\n",
              "    }\n",
              "  </style>\n",
              "\n",
              "      <script>\n",
              "        const buttonEl =\n",
              "          document.querySelector('#df-a113bf8d-93fc-448e-ae59-76cd20633306 button.colab-df-convert');\n",
              "        buttonEl.style.display =\n",
              "          google.colab.kernel.accessAllowed ? 'block' : 'none';\n",
              "\n",
              "        async function convertToInteractive(key) {\n",
              "          const element = document.querySelector('#df-a113bf8d-93fc-448e-ae59-76cd20633306');\n",
              "          const dataTable =\n",
              "            await google.colab.kernel.invokeFunction('convertToInteractive',\n",
              "                                                     [key], {});\n",
              "          if (!dataTable) return;\n",
              "\n",
              "          const docLinkHtml = 'Like what you see? Visit the ' +\n",
              "            '<a target=\"_blank\" href=https://colab.research.google.com/notebooks/data_table.ipynb>data table notebook</a>'\n",
              "            + ' to learn more about interactive tables.';\n",
              "          element.innerHTML = '';\n",
              "          dataTable['output_type'] = 'display_data';\n",
              "          await google.colab.output.renderOutput(dataTable, element);\n",
              "          const docLink = document.createElement('div');\n",
              "          docLink.innerHTML = docLinkHtml;\n",
              "          element.appendChild(docLink);\n",
              "        }\n",
              "      </script>\n",
              "    </div>\n",
              "  </div>\n",
              "  "
            ],
            "text/plain": [
              "   file_number_list file_names_list\n",
              "0                 1       file1.txt\n",
              "1                 2       file2.txt\n",
              "2                 3       file3.txt\n",
              "3                 4       file4.txt"
            ]
          },
          "metadata": {},
          "execution_count": 13
        }
      ]
    },
    {
      "cell_type": "code",
      "source": [
        "import sqlite3\n",
        "\n",
        "conn = sqlite3.connect('test.db')\n",
        "print(\"Opened database successfully\");\n",
        "\n",
        "conn.execute('''\n",
        "CREATE TABLE IF NOT EXISTS file_data(file_number_list integer, \n",
        "                      file_names_list text);''') \n",
        "                     \n",
        "#df = pd.read_csv('sample.csv', index_col=None)\n",
        "df.to_sql('file_data', conn, if_exists='append', index=False)\n",
        "conn.commit()\n",
        "\n",
        "print(\"Table created successfully\");\n",
        "\n",
        "conn.close()\n",
        "\n",
        "\n"
      ],
      "metadata": {
        "colab": {
          "base_uri": "https://localhost:8080/"
        },
        "id": "Wra_EQRCMvm-",
        "outputId": "df509863-5dd0-4469-fb0d-d4a12be1deba"
      },
      "execution_count": 14,
      "outputs": [
        {
          "output_type": "stream",
          "name": "stdout",
          "text": [
            "Opened database successfully\n",
            "Table created successfully\n"
          ]
        }
      ]
    },
    {
      "cell_type": "code",
      "source": [
        "conn = sqlite3.connect('test.db')\n",
        "cur = conn.cursor()\n",
        "cur.execute(\"SELECT * FROM file_data\")\n",
        "rows = cur.fetchall()\n",
        "for row in rows:\n",
        "  print(row)\n"
      ],
      "metadata": {
        "colab": {
          "base_uri": "https://localhost:8080/"
        },
        "id": "FAqfdA_B054T",
        "outputId": "c9d3c3d1-4cd8-472f-f00c-0c4428c40542"
      },
      "execution_count": 15,
      "outputs": [
        {
          "output_type": "stream",
          "name": "stdout",
          "text": [
            "(1, 'file1.txt')\n",
            "(2, 'file2.txt')\n",
            "(3, 'file3.txt')\n",
            "(4, 'file4.txt')\n"
          ]
        }
      ]
    }
  ]
}